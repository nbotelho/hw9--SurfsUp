{
 "cells": [
  {
   "cell_type": "code",
   "execution_count": 1,
   "metadata": {
    "collapsed": true
   },
   "outputs": [],
   "source": [
    "# This program takes as input two csv files; hawaii_stations.csv, and  hawaii measurements, and conducts data engineering tasks\n",
    "# like inspecting them for NaNs, missing values etc. and outputs clean versions of these files."
   ]
  },
  {
   "cell_type": "code",
   "execution_count": 1,
   "metadata": {
    "collapsed": true
   },
   "outputs": [],
   "source": [
    "import pandas as pd\n",
    "import numpy as np\n"
   ]
  },
  {
   "cell_type": "code",
   "execution_count": 4,
   "metadata": {
    "collapsed": false
   },
   "outputs": [
    {
     "data": {
      "text/plain": [
       "station       0\n",
       "date          0\n",
       "prcp       1447\n",
       "tobs          0\n",
       "dtype: int64"
      ]
     },
     "execution_count": 4,
     "metadata": {},
     "output_type": "execute_result"
    }
   ],
   "source": [
    "#Read the two csv files into dataframes\n",
    "df_hawaii_stations = pd.read_csv(\"hawaii_stations.csv\")\n",
    "df_hawaii_stations.head()\n",
    "\n",
    "df_hawaii_measurements = pd.read_csv(\"hawaii_measurements.csv\")\n",
    "df_hawaii_measurements\n",
    "\n",
    "df_hawaii_measurements.isnull().sum()\n"
   ]
  },
  {
   "cell_type": "code",
   "execution_count": 11,
   "metadata": {
    "collapsed": false
   },
   "outputs": [
    {
     "data": {
      "text/plain": [
       "station    0\n",
       "date       0\n",
       "prcp       0\n",
       "tobs       0\n",
       "dtype: int64"
      ]
     },
     "execution_count": 11,
     "metadata": {},
     "output_type": "execute_result"
    }
   ],
   "source": [
    "#Checking for Nulls/Missing Values\n",
    "# The below revealed no null values in any of the cols, so nothing needs to be done \n",
    "df_hawaii_stations.isnull().sum()\n",
    "\n",
    "df_hawaii_measurements.isnull().sum()\n",
    "\n",
    "#1447 null values in the prcp col in df_hawaii_measurements, hence dropping these rows\n",
    "\n",
    "#Replace missing values in df_hawaii_measurements with -999\n",
    "df_hawaii_measurements[\"prcp\"].fillna(value=-999,inplace=True)\n",
    "\n"
   ]
  },
  {
   "cell_type": "code",
   "execution_count": 13,
   "metadata": {
    "collapsed": true
   },
   "outputs": [],
   "source": [
    "#Saving df_hawaii_measurements to a new csv file\n",
    "df_hawaii_measurements.to_csv(\"clean_hawaii_measurements.csv\")\n"
   ]
  },
  {
   "cell_type": "code",
   "execution_count": null,
   "metadata": {
    "collapsed": true
   },
   "outputs": [],
   "source": []
  }
 ],
 "metadata": {
  "kernelspec": {
   "display_name": "Python 3",
   "language": "python",
   "name": "python3"
  },
  "language_info": {
   "codemirror_mode": {
    "name": "ipython",
    "version": 3
   },
   "file_extension": ".py",
   "mimetype": "text/x-python",
   "name": "python",
   "nbconvert_exporter": "python",
   "pygments_lexer": "ipython3",
   "version": "3.6.0"
  }
 },
 "nbformat": 4,
 "nbformat_minor": 2
}
