{
 "cells": [
  {
   "cell_type": "markdown",
   "metadata": {
    "collapsed": false,
    "inputHidden": false,
    "outputHidden": false
   },
   "source": [
    "## Creating a table in ORM"
   ]
  },
  {
   "cell_type": "code",
   "execution_count": null,
   "metadata": {
    "collapsed": true
   },
   "outputs": [],
   "source": [
    "#This program uses SQL Alchemy to model table schemas to load data from csv files hawaii_stations, and clean_hawaii_measurements\n",
    "#into tables in a sqllite database."
   ]
  },
  {
   "cell_type": "code",
   "execution_count": 1,
   "metadata": {
    "collapsed": false,
    "inputHidden": false,
    "outputHidden": false
   },
   "outputs": [],
   "source": [
    "# Import SQLAlchemy's declarative_base module, based upon which new classes are created\n",
    "from sqlalchemy.ext.declarative import declarative_base\n",
    "\n",
    "# Base is akin to a template for creating classes\n",
    "Base = declarative_base()"
   ]
  },
  {
   "cell_type": "code",
   "execution_count": 2,
   "metadata": {
    "collapsed": false,
    "inputHidden": false,
    "outputHidden": false
   },
   "outputs": [],
   "source": [
    "# Modules necessary to declare columns and column data types\n",
    "from sqlalchemy import Column, Integer, String, Date, Numeric\n"
   ]
  },
  {
   "cell_type": "code",
   "execution_count": 3,
   "metadata": {
    "collapsed": true
   },
   "outputs": [],
   "source": [
    "#Importing other needed libraries\n",
    "import pandas as pd\n",
    "import time\n",
    "import datetime"
   ]
  },
  {
   "cell_type": "code",
   "execution_count": 4,
   "metadata": {
    "collapsed": false,
    "inputHidden": false,
    "outputHidden": false
   },
   "outputs": [],
   "source": [
    "# Create a class for Station\n",
    "class Station(Base):\n",
    "    __tablename__ = 'hawaii_station'\n",
    "    \n",
    "    #__table_args__ = {'extend_existing': True} \n",
    "    \n",
    "    id = Column(Integer, primary_key=True)\n",
    "    station_abbr = Column(String(15), index=True)\n",
    "    station_name = Column(String(50))\n",
    "    latitude = Column(String(10))\n",
    "    longitude = Column(String(10))\n",
    "    elevation = Column(String(7))\n",
    "    \n",
    "    def __repr__(self):\n",
    "        return \"<User(%r, %r)>\" % (self.station_abbr, self.station_name)"
   ]
  },
  {
   "cell_type": "code",
   "execution_count": 5,
   "metadata": {
    "collapsed": false,
    "inputHidden": false,
    "outputHidden": false
   },
   "outputs": [
    {
     "data": {
      "text/plain": [
       "Table('hawaii_station', MetaData(bind=None), Column('id', Integer(), table=<hawaii_station>, primary_key=True, nullable=False), Column('station_abbr', String(length=15), table=<hawaii_station>), Column('station_name', String(length=50), table=<hawaii_station>), Column('latitude', String(length=10), table=<hawaii_station>), Column('longitude', String(length=10), table=<hawaii_station>), Column('elevation', String(length=7), table=<hawaii_station>), schema=None)"
      ]
     },
     "execution_count": 5,
     "metadata": {},
     "output_type": "execute_result"
    }
   ],
   "source": [
    "# Display the schema of the table we just created\n",
    "Station.__table__"
   ]
  },
  {
   "cell_type": "code",
   "execution_count": 6,
   "metadata": {
    "collapsed": false
   },
   "outputs": [],
   "source": [
    "# Create a class for Station Measurement\n",
    "class Station_Measurement(Base):\n",
    "    __tablename__ = 'hawaii_station_measurement'\n",
    "    \n",
    "    __table_args__ = {'extend_existing': True} \n",
    "    \n",
    "    id = Column(Integer, primary_key=True)\n",
    "    station_abbr = Column(String(15))\n",
    "    measurement_date = Column(String(15))\n",
    "    precipitation = Column(String(10))\n",
    "    observed_temperature_F = Column(Integer)\n",
    "    \n",
    "    def __repr__(self):\n",
    "        return \"<User(%r, %r)>\" % (self.station_abbr, self.measurement_date)"
   ]
  },
  {
   "cell_type": "code",
   "execution_count": 7,
   "metadata": {
    "collapsed": false
   },
   "outputs": [
    {
     "data": {
      "text/plain": [
       "Table('hawaii_station_measurement', MetaData(bind=None), Column('id', Integer(), table=<hawaii_station_measurement>, primary_key=True, nullable=False), Column('station_abbr', String(length=15), table=<hawaii_station_measurement>), Column('measurement_date', String(length=15), table=<hawaii_station_measurement>), Column('precipitation', String(length=10), table=<hawaii_station_measurement>), Column('observed_temperature_F', Integer(), table=<hawaii_station_measurement>), schema=None)"
      ]
     },
     "execution_count": 7,
     "metadata": {},
     "output_type": "execute_result"
    }
   ],
   "source": [
    "#Ensure that the measurement class looks the way you envisioned\n",
    "Station_Measurement.__table__"
   ]
  },
  {
   "cell_type": "code",
   "execution_count": 8,
   "metadata": {
    "collapsed": false,
    "inputHidden": false,
    "outputHidden": false
   },
   "outputs": [],
   "source": [
    "# First create the engine, to enable Python to communicate with SQL\n",
    "from sqlalchemy import create_engine\n",
    "\n",
    "# The database file we create will be called hawaii.sqlite\n",
    "engine = create_engine('sqlite:///hawaii.sqlite')\n",
    "Base.metadata.create_all(engine)\n"
   ]
  },
  {
   "cell_type": "code",
   "execution_count": 9,
   "metadata": {
    "collapsed": false,
    "inputHidden": false,
    "outputHidden": false
   },
   "outputs": [],
   "source": [
    "# To persist the Station and Measurement objects into, and load from, the database, we use a Session object\n",
    "# A session is akin to a conversation between Python and SQL\n",
    "from sqlalchemy.orm import Session\n",
    "\n",
    "# Declare a session\n",
    "session = Session(bind=engine)"
   ]
  },
  {
   "cell_type": "code",
   "execution_count": 10,
   "metadata": {
    "collapsed": false
   },
   "outputs": [
    {
     "name": "stdout",
     "output_type": "stream",
     "text": [
      "Inserted row\n",
      "Inserted row\n",
      "Inserted row\n",
      "Inserted row\n",
      "Inserted row\n",
      "Inserted row\n",
      "Inserted row\n",
      "Inserted row\n",
      "Inserted row\n"
     ]
    }
   ],
   "source": [
    "#Load the hawaii_stations data into the sqllite database, using the ORM class defined above\n",
    "try:\n",
    "        #Read the csv into a dataframe\n",
    "        df_stations = pd.read_csv(\"hawaii_stations.csv\") \n",
    "\n",
    "        #Loop through the rows of the dataframe and add to an object, to add to the session\n",
    "        for index, row in df_stations.iterrows():\n",
    "            station_row = Station(station_abbr = row[\"station\"],\n",
    "                                  station_name= row[\"name\"], \n",
    "                                  latitude = row[\"latitude\"],\n",
    "                                  longitude = row[\"longitude\"],\n",
    "                                  elevation = row[\"elevation\"] )                         \n",
    "            \n",
    "            #Now add the row to the session\n",
    "            session.add(station_row)\n",
    "            print(\"Inserted row\")\n",
    "\n",
    "        #Commit all the rows    \n",
    "        session.commit() \n",
    "        \n",
    "except:\n",
    "        session.rollback() #Rollback the changes on error\n",
    "        \n",
    "finally:\n",
    "        session.close() #Close the connection\n",
    "        \n",
    "#print \"Time elapsed: \" + str(time() - t) + \" s.\" #0.091s"
   ]
  },
  {
   "cell_type": "code",
   "execution_count": 11,
   "metadata": {
    "collapsed": false,
    "inputHidden": false,
    "outputHidden": false
   },
   "outputs": [
    {
     "name": "stdout",
     "output_type": "stream",
     "text": [
      "<User('USC00519397', 'WAIKIKI 717.2, HI US')>\n"
     ]
    }
   ],
   "source": [
    "# Make a query to verify addition of Station object\n",
    "print(session.query(Station).first())"
   ]
  },
  {
   "cell_type": "code",
   "execution_count": 12,
   "metadata": {
    "collapsed": false
   },
   "outputs": [],
   "source": [
    "#Load the hawaii_measurements data into the sqllite database, using the ORM class defined above\n",
    "try:\n",
    "        #Read the csv into a dataframe\n",
    "        df_station_measurement = pd.read_csv(\"clean_hawaii_measurements.csv\") \n",
    "\n",
    "        #Loop through the rows of the dataframe and add to an object, to add to the session\n",
    "        for index, row in df_station_measurement.iterrows():\n",
    "            measurement_row = Station_Measurement(station_abbr = row[\"station\"],\n",
    "                                                  measurement_date= row[\"date\"], \n",
    "                                                  precipitation = row[\"prcp\"],\n",
    "                                                  observed_temperature_F = row[\"tobs\"] ) \n",
    "            \n",
    "            #Now add the row to the session\n",
    "            session.add(measurement_row)\n",
    "\n",
    "        #Commit all the rows    \n",
    "        session.commit() \n",
    "        \n",
    "except:\n",
    "        session.rollback() #Rollback the changes on error\n",
    "        print(\"Sorry could not insert row\")\n",
    "        \n",
    "finally:\n",
    "        session.close() #Close the connection\n",
    "        \n",
    "#print \"Time elapsed: \" + str(time() - t) + \" s.\" #0.091s"
   ]
  },
  {
   "cell_type": "code",
   "execution_count": 13,
   "metadata": {
    "collapsed": false
   },
   "outputs": [
    {
     "name": "stdout",
     "output_type": "stream",
     "text": [
      "<User('USC00519397', '2010-01-01')>\n"
     ]
    }
   ],
   "source": [
    "# Make a query to verify addition of the Station_Measurement object\n",
    "print(session.query(Station_Measurement).first())"
   ]
  },
  {
   "cell_type": "code",
   "execution_count": null,
   "metadata": {
    "collapsed": true
   },
   "outputs": [],
   "source": []
  }
 ],
 "metadata": {
  "kernel_info": {
   "name": "python3"
  },
  "kernelspec": {
   "display_name": "Python 3",
   "language": "python",
   "name": "python3"
  },
  "language_info": {
   "codemirror_mode": {
    "name": "ipython",
    "version": 3
   },
   "file_extension": ".py",
   "mimetype": "text/x-python",
   "name": "python",
   "nbconvert_exporter": "python",
   "pygments_lexer": "ipython3",
   "version": "3.6.0"
  },
  "nteract": {
   "version": "0.2.0"
  }
 },
 "nbformat": 4,
 "nbformat_minor": 4
}
